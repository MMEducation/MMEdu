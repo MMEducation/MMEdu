{
 "cells": [
  {
   "cell_type": "code",
   "execution_count": null,
   "metadata": {},
   "outputs": [],
   "source": [
    "from base import *\n",
    "from MMEdu import MMDetection\n",
    "\n",
    "\n",
    "def only_infer_demo():\n",
    "\timg = 'car_plate.png'\n",
    "\tmodel = MMDetection(backbone=\"FasterRCNN\", dataset_path='../dataset/det/coco')\n",
    "\tmodel.inference(infer_data=img, show=True, rpn_threshold=0.7, rcnn_threshold=0.7)\n",
    "\n",
    "\n",
    "def continue_train_demo():\n",
    "\tmodel = MMDetection(backbone='FasterRCNN')\n",
    "\tmodel.num_classes = 1\n",
    "\tmodel.load_dataset(path='../dataset/det/coco')\n",
    "\tmodel.save_fold = \"../checkpoints/det_model/plate\"\n",
    "\tmodel.train(epochs=3, checkpoint='../checkpoints/det_model/plate/latest.pth', validate=True, Frozen_stages=1)\n",
    "\n",
    "\n",
    "def normal_train_demo():\n",
    "\tmodel = MMDetection(backbone='FasterRCNN')\n",
    "\tmodel.num_classes = 1\n",
    "\tmodel.load_dataset(path='../dataset/det/coco')\n",
    "\tmodel.save_fold = \"../checkpoints/det_model/plate\"\n",
    "\tmodel.train(epochs=100, validate=True, Frozen_stages=1)\n",
    "\n",
    "\n",
    "if __name__ == \"__main__\":\n",
    "\tonly_infer_demo()\n",
    "\t# continue_train_demo()\n",
    "\t# normal_train_demo()"
   ]
  }
 ],
 "metadata": {
  "language_info": {
   "name": "python"
  },
  "orig_nbformat": 4
 },
 "nbformat": 4,
 "nbformat_minor": 2
}
