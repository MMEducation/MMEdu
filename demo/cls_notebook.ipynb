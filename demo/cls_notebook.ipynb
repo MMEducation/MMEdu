{
 "cells": [
  {
   "cell_type": "code",
   "execution_count": null,
   "metadata": {},
   "outputs": [],
   "source": [
    "from base import *\n",
    "from MMEdu import MMClassification\n",
    "\n",
    "\n",
    "def only_infer_demo():\n",
    "\timg = 'dog.jpg'\n",
    "\tmodel = MMClassification(backbone='MobileNet')\n",
    "\tmodel.checkpoint = '../checkpoints/cls_model/cats_dogs/latest.pth'\n",
    "\tresult = model.inference(image=img, show=True)\n",
    "\tprint(result)\n",
    "\n",
    "\n",
    "def continue_train_demo():\n",
    "\tmodel = MMClassification(backbone='MobileNet')\n",
    "\tmodel.num_classes = 2\n",
    "\tmodel.save_fold = '../checkpoints/cls_model/cats_dogs'\n",
    "\tmodel.load_dataset(path='../dataset/cls/cats_dogs_dataset')\n",
    "\tmodel.train(epochs=1, validate=True, checkpoint='../checkpoints/cls_model/cats_dogs/latest.pth')\n",
    "\n",
    "\n",
    "def normal_train_demo():\n",
    "\tmodel = MMClassification(backbone='MobileNet')\n",
    "\tmodel.num_classes = 2\n",
    "\tmodel.save_fold = '../checkpoints/cls_model/cats_dogs'\n",
    "\tmodel.load_dataset(path='../dataset/cls/cats_dogs_dataset')\n",
    "\tmodel.train(epochs=100, validate=True)\n",
    "\n",
    "\n",
    "if __name__ == \"__main__\":\n",
    "\tonly_infer_demo()\n",
    "\t# continue_train_demo()\n",
    "\t# normal_train_demo()"
   ]
  }
 ],
 "metadata": {
  "language_info": {
   "name": "python"
  },
  "orig_nbformat": 4
 },
 "nbformat": 4,
 "nbformat_minor": 2
}
